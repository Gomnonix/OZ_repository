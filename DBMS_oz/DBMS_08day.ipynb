{
 "cells": [
  {
   "cell_type": "code",
   "execution_count": 11,
   "metadata": {},
   "outputs": [
    {
     "name": "stdout",
     "output_type": "stream",
     "text": [
      "Requirement already satisfied: pymongo in /Users/baggiung/Desktop/DB/.venv/lib/python3.11/site-packages (4.6.3)\n",
      "Requirement already satisfied: dnspython<3.0.0,>=1.16.0 in /Users/baggiung/Desktop/DB/.venv/lib/python3.11/site-packages (from pymongo) (2.6.1)\n",
      "\n",
      "\u001b[1m[\u001b[0m\u001b[34;49mnotice\u001b[0m\u001b[1;39;49m]\u001b[0m\u001b[39;49m A new release of pip is available: \u001b[0m\u001b[31;49m23.2.1\u001b[0m\u001b[39;49m -> \u001b[0m\u001b[32;49m24.0\u001b[0m\n",
      "\u001b[1m[\u001b[0m\u001b[34;49mnotice\u001b[0m\u001b[1;39;49m]\u001b[0m\u001b[39;49m To update, run: \u001b[0m\u001b[32;49mpip install --upgrade pip\u001b[0m\n",
      "Note: you may need to restart the kernel to use updated packages.\n"
     ]
    }
   ],
   "source": [
    "%pip install pymongo"
   ]
  },
  {
   "cell_type": "code",
   "execution_count": 17,
   "metadata": {},
   "outputs": [
    {
     "name": "stdout",
     "output_type": "stream",
     "text": [
      "Data inserted successfully\n"
     ]
    }
   ],
   "source": [
    "from pymongo import MongoClient\n",
    "\n",
    "def insert_data():\n",
    "    client = MongoClient('mongodb://localhost:27017/')\n",
    "    db = client.local  # 'local' 데이터베이스 사용\n",
    "\n",
    "    # 책 데이터 삽입\n",
    "    books = [\n",
    "        {\"title\": \"Kafka on the Shore\", \"author\": \"Haruki Murakami\", \"year\": 2002},\n",
    "        {\"title\": \"Norwegian Wood\", \"author\": \"Haruki Murakami\", \"year\": 1987},\n",
    "        {\"title\": \"1Q84\", \"author\": \"Haruki Murakami\", \"year\": 2009}\n",
    "    ]\n",
    "    db.books.insert_many(books)\n",
    "\n",
    "    # 영화 데이터 삽입\n",
    "    movies = [\n",
    "        {\"title\": \"Inception\", \"director\": \"Christopher Nolan\", \"year\": 2010, \"rating\": 8.8},\n",
    "        {\"title\": \"Interstellar\", \"director\": \"Christopher Nolan\", \"year\": 2014, \"rating\": 8.6},\n",
    "        {\"title\": \"The Dark Knight\", \"director\": \"Christopher Nolan\", \"year\": 2008, \"rating\": 9.0}\n",
    "    ]\n",
    "    db.movies.insert_many(movies)\n",
    "\n",
    "    # 사용자 행동 데이터 삽입\n",
    "    user_actions = [\n",
    "        {\"user_id\": 1, \"action\": \"click\", \"timestamp\": \"2023-04-12T08:00:00Z\"},\n",
    "        {\"user_id\": 1, \"action\": \"view\", \"timestamp\": \"2023-04-12T09:00:00Z\"},\n",
    "        {\"user_id\": 2, \"action\": \"purchase\", \"timestamp\": \"2023-04-12T10:00:00Z\"}\n",
    "    ]\n",
    "    db.user_actions.insert_many(user_actions)\n",
    "\n",
    "    print(\"Data inserted successfully\")\n",
    "    client.close()\n",
    "\n",
    "if __name__ == \"__main__\":\n",
    "    insert_data()\n",
    "\n"
   ]
  },
  {
   "cell_type": "code",
   "execution_count": 19,
   "metadata": {},
   "outputs": [],
   "source": [
    "# 문제1: 특정 장르의 책 찾기\n",
    "client = MongoClient('mongodb://localhost:27017/')\n",
    "db = client.local  # 'local' 데이터베이스 사용\n",
    "collection = db.books\n",
    "\n",
    "query = {\"genre\":\"fantagy\"}\n",
    "\n",
    "for doc in collection.find(query):\n",
    "    print(doc)"
   ]
  },
  {
   "cell_type": "code",
   "execution_count": 21,
   "metadata": {},
   "outputs": [
    {
     "name": "stdout",
     "output_type": "stream",
     "text": [
      "{'_id': 'Christopher Nolan', 'avg_rating': 8.799999999999999}\n"
     ]
    }
   ],
   "source": [
    "# 문제2: 감독별 평균 영화 평점 계산\n",
    "movies_collection = db.movies\n",
    "query = [{\"$group\":{\"_id\":\"$director\", \"avg_rating\":{\"$avg\": \"$rating\"}}}]\n",
    "\n",
    "for data in movies_collection.aggregate(query):\n",
    "    print(data)"
   ]
  },
  {
   "cell_type": "code",
   "execution_count": 22,
   "metadata": {},
   "outputs": [
    {
     "name": "stdout",
     "output_type": "stream",
     "text": [
      "{'_id': ObjectId('6628b7c2ac85060f521d0057'), 'user_id': 1, 'action': 'view', 'timestamp': '2023-04-12T09:00:00Z'}\n",
      "{'_id': ObjectId('6628b8f5ac85060f521d0063'), 'user_id': 1, 'action': 'view', 'timestamp': '2023-04-12T09:00:00Z'}\n",
      "{'_id': ObjectId('6628adc2ac85060f521d0041'), 'user_id': 1, 'action': 'view', 'timestamp': '2023-04-12T09:00:00Z'}\n",
      "{'_id': ObjectId('6628b74fac85060f521d004d'), 'user_id': 1, 'action': 'view', 'timestamp': '2023-04-12T09:00:00Z'}\n",
      "{'_id': ObjectId('6628b74fac85060f521d004c'), 'user_id': 1, 'action': 'click', 'timestamp': '2023-04-12T08:00:00Z'}\n"
     ]
    }
   ],
   "source": [
    "#문제3: 특정 사용자의 최근 행동 조회\n",
    "user_actions_collection = db.user_actions\n",
    "query = {\"user_id\":1}\n",
    "sort_criteria = [(\"timestamp\", -1)]\n",
    "\n",
    "actions = user_actions_collection.find(query).sort(sort_criteria).limit(5)\n",
    "\n",
    "for data in actions:\n",
    "    print(data)\n"
   ]
  },
  {
   "cell_type": "code",
   "execution_count": 23,
   "metadata": {},
   "outputs": [
    {
     "name": "stdout",
     "output_type": "stream",
     "text": [
      "{'_id': 1987, 'count': 4}\n",
      "{'_id': 2009, 'count': 4}\n",
      "{'_id': 2002, 'count': 4}\n"
     ]
    }
   ],
   "source": [
    "#문제4: 출판 연도별 책의 수 계산\n",
    "books_collection = db.books\n",
    "\n",
    "query = [{\"$group\": {\"_id\":\"$year\", \"count\":{\"$sum\":1}}},{\"$sort\": {\"count\":-1}}]\n",
    "\n",
    "for data in books_collection.aggregate(query):\n",
    "    print(data)"
   ]
  },
  {
   "cell_type": "code",
   "execution_count": 56,
   "metadata": {},
   "outputs": [
    {
     "name": "stdout",
     "output_type": "stream",
     "text": [
      "Updated 0 document\n"
     ]
    }
   ],
   "source": [
    "#문제5: 특정 사용자의 행동 유형 업데이트\n",
    "from datetime import datetime\n",
    "\n",
    "def update_user_date(user_id, date, old_action, new_action):\n",
    "    user_actions_collection = db.user_actions\n",
    "    query = {\"user_id\":user_id, \"action\": old_action, \"timestamp\": {\"$lt\": date}}\n",
    "    update = {\"$set\": {\"action\": new_action}}\n",
    "    result = user_actions_collection.update_many(query, update)\n",
    "    print(f\"Updated {result.modified_count} document\")\n",
    "\n",
    "update_user_date(1, datetime(2023, 4, 10), \"view\", \"seen\" )\n",
    " \n",
    "    "
   ]
  }
 ],
 "metadata": {
  "kernelspec": {
   "display_name": ".venv",
   "language": "python",
   "name": "python3"
  },
  "language_info": {
   "codemirror_mode": {
    "name": "ipython",
    "version": 3
   },
   "file_extension": ".py",
   "mimetype": "text/x-python",
   "name": "python",
   "nbconvert_exporter": "python",
   "pygments_lexer": "ipython3",
   "version": "3.11.7"
  }
 },
 "nbformat": 4,
 "nbformat_minor": 2
}
