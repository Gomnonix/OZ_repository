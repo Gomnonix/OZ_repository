{
 "cells": [
  {
   "cell_type": "markdown",
   "metadata": {},
   "source": [
    "### 예스24 크롤링\n"
   ]
  },
  {
   "cell_type": "code",
   "execution_count": 44,
   "metadata": {},
   "outputs": [
    {
     "data": {
      "text/plain": [
       "'/Users/baggiung/.wdm/drivers/chromedriver/mac64/124.0.6367.60/chromedriver-mac-x64/chromedriver'"
      ]
     },
     "execution_count": 44,
     "metadata": {},
     "output_type": "execute_result"
    }
   ],
   "source": [
    "#webdriver-manager 라이버러리 불러오기\n",
    "from webdriver_manager.chrome import ChromeDriverManager\n",
    "ChromeDriverManager().install()\n"
   ]
  },
  {
   "cell_type": "code",
   "execution_count": 62,
   "metadata": {},
   "outputs": [],
   "source": [
    "from selenium import webdriver\n",
    "browser = webdriver.Chrome()"
   ]
  },
  {
   "cell_type": "code",
   "execution_count": 63,
   "metadata": {},
   "outputs": [],
   "source": [
    "url= 'https://www.google.com/'\n",
    "browser.get(url)"
   ]
  },
  {
   "cell_type": "code",
   "execution_count": 47,
   "metadata": {},
   "outputs": [
    {
     "ename": "AttributeError",
     "evalue": "'WebElement' object has no attribute 'textadsa'",
     "output_type": "error",
     "traceback": [
      "\u001b[0;31m---------------------------------------------------------------------------\u001b[0m",
      "\u001b[0;31mAttributeError\u001b[0m                            Traceback (most recent call last)",
      "Cell \u001b[0;32mIn[47], line 3\u001b[0m\n\u001b[1;32m      1\u001b[0m \u001b[38;5;28;01mfrom\u001b[39;00m \u001b[38;5;21;01mselenium\u001b[39;00m\u001b[38;5;21;01m.\u001b[39;00m\u001b[38;5;21;01mwebdriver\u001b[39;00m\u001b[38;5;21;01m.\u001b[39;00m\u001b[38;5;21;01mcommon\u001b[39;00m\u001b[38;5;21;01m.\u001b[39;00m\u001b[38;5;21;01mby\u001b[39;00m \u001b[38;5;28;01mimport\u001b[39;00m By\n\u001b[0;32m----> 3\u001b[0m \u001b[43mbrowser\u001b[49m\u001b[38;5;241;43m.\u001b[39;49m\u001b[43mfind_element\u001b[49m\u001b[43m(\u001b[49m\u001b[43mBy\u001b[49m\u001b[38;5;241;43m.\u001b[39;49m\u001b[43mCLASS_NAME\u001b[49m\u001b[43m,\u001b[49m\u001b[43m \u001b[49m\u001b[38;5;124;43m'\u001b[39;49m\u001b[38;5;124;43muU7dJb\u001b[39;49m\u001b[38;5;124;43m'\u001b[39;49m\u001b[43m)\u001b[49m\u001b[38;5;241;43m.\u001b[39;49m\u001b[43mtextadsa\u001b[49m\n",
      "\u001b[0;31mAttributeError\u001b[0m: 'WebElement' object has no attribute 'textadsa'"
     ]
    }
   ],
   "source": [
    "from selenium.webdriver.common.by import By\n",
    " \n",
    "browser.find_element(By.CLASS_NAME, 'uU7dJb').textadsa"
   ]
  },
  {
   "cell_type": "code",
   "execution_count": 64,
   "metadata": {},
   "outputs": [],
   "source": [
    "url= 'https://www.yes24.com/Product/Category/BestSeller?categoryNumber=001&pageNumber=1&pageSize=24'\n",
    "browser.get(url)"
   ]
  },
  {
   "cell_type": "code",
   "execution_count": null,
   "metadata": {},
   "outputs": [],
   "source": [
    "#1페이지의 링크 데이터 전부 수집\n",
    "\n",
    "### 한 개의 베스트 셀러 링크 수집, class 이름 = gd_name\n",
    "browser.find_element(By.CLASS_NAME, 'gd_name').get_attribute('href')\n",
    "\n",
    "### 1페이지 전체의 링크 데이터\n",
    "#browser.find_element(By.CLASS_NAME, 'gd_name') # element: 요소\n",
    "datas = browser.find_elements(By.CLASS_NAME, 'gd_name') # element: 리스트\n",
    "\n",
    "for i in datas:\n",
    "    print(i.get_attribute('href'))\n",
    "\n"
   ]
  },
  {
   "cell_type": "code",
   "execution_count": 74,
   "metadata": {},
   "outputs": [
    {
     "name": "stdout",
     "output_type": "stream",
     "text": [
      "********** 현재 1 페이지 수집 중 입니다. **********\n",
      "********** 현재 2 페이지 수집 중 입니다. **********\n",
      "********** 현재 3 페이지 수집 중 입니다. **********\n",
      "['https://www.yes24.com/Product/Goods/124999476', 'https://www.yes24.com/Product/Goods/126010792', 'https://www.yes24.com/Product/Goods/125992096', 'https://www.yes24.com/Product/Goods/125295101', 'https://www.yes24.com/Product/Goods/126029503', 'https://www.yes24.com/Product/Goods/125491624', 'https://www.yes24.com/Product/Goods/125651056', 'https://www.yes24.com/Product/Goods/125970283', 'https://www.yes24.com/Product/Goods/125576919', 'https://www.yes24.com/Product/Goods/117014613', 'https://www.yes24.com/Product/Goods/122120495', 'https://www.yes24.com/Product/Goods/123675187', 'https://www.yes24.com/Product/Goods/126029190', 'https://www.yes24.com/Product/Goods/125973831', 'https://www.yes24.com/Product/Goods/90926731', 'https://www.yes24.com/Product/Goods/96547408', 'https://www.yes24.com/Product/Goods/123400303', 'https://www.yes24.com/Product/Goods/124043812', 'https://www.yes24.com/Product/Goods/123930880', 'https://www.yes24.com/Product/Goods/125384202', 'https://www.yes24.com/Product/Goods/124926484', 'https://www.yes24.com/Product/Goods/125969501', 'https://www.yes24.com/Product/Goods/125557465', 'https://www.yes24.com/Product/Goods/125752452', 'https://www.yes24.com/Product/Goods/124043802', 'https://www.yes24.com/Product/Goods/123930891', 'https://www.yes24.com/Product/Goods/125606168', 'https://www.yes24.com/Product/Goods/126012006', 'https://www.yes24.com/Product/Goods/125871480', 'https://www.yes24.com/Product/Goods/124112599', 'https://www.yes24.com/Product/Goods/126053427', 'https://www.yes24.com/Product/Goods/124702623', 'https://www.yes24.com/Product/Goods/125709308', 'https://www.yes24.com/Product/Goods/8759796', 'https://www.yes24.com/Product/Goods/125992327', 'https://www.yes24.com/Product/Goods/125558276', 'https://www.yes24.com/Product/Goods/125558632', 'https://www.yes24.com/Product/Goods/125905365', 'https://www.yes24.com/Product/Goods/125771626', 'https://www.yes24.com/Product/Goods/82287934', 'https://www.yes24.com/Product/Goods/125184439', 'https://www.yes24.com/Product/Goods/125918682', 'https://www.yes24.com/Product/Goods/125757418', 'https://www.yes24.com/Product/Goods/125085536', 'https://www.yes24.com/Product/Goods/114853233', 'https://www.yes24.com/Product/Goods/90275002', 'https://www.yes24.com/Product/Goods/125668307', 'https://www.yes24.com/Product/Goods/126011064', 'https://www.yes24.com/Product/Goods/124225606', 'https://www.yes24.com/Product/Goods/125912298', 'https://www.yes24.com/Product/Goods/122090360', 'https://www.yes24.com/Product/Goods/125910832', 'https://www.yes24.com/Product/Goods/125648423', 'https://www.yes24.com/Product/Goods/118413014', 'https://www.yes24.com/Product/Goods/118579613', 'https://www.yes24.com/Product/Goods/125542915', 'https://www.yes24.com/Product/Goods/59003542', 'https://www.yes24.com/Product/Goods/25283908', 'https://www.yes24.com/Product/Goods/104086365', 'https://www.yes24.com/Product/Goods/97255028', 'https://www.yes24.com/Product/Goods/124702605', 'https://www.yes24.com/Product/Goods/118569079', 'https://www.yes24.com/Product/Goods/125447851', 'https://www.yes24.com/Product/Goods/125105639', 'https://www.yes24.com/Product/Goods/125384672', 'https://www.yes24.com/Product/Goods/125969665', 'https://www.yes24.com/Product/Goods/125285962', 'https://www.yes24.com/Product/Goods/125691975', 'https://www.yes24.com/Product/Goods/79297023', 'https://www.yes24.com/Product/Goods/122428190', 'https://www.yes24.com/Product/Goods/125005921', 'https://www.yes24.com/Product/Goods/125384743']\n"
     ]
    }
   ],
   "source": [
    "#3페이지까지의 링크 데이터 전부 수집\n",
    "# https://www.yes24.com/Product/Category/BestSeller?categoryNumber=001&pageNumber=3&pageSize=24\n",
    "\n",
    "\n",
    "import time\n",
    "link_list = []\n",
    "for i in range(1, 4):\n",
    "    print(\"*\"*10, f'현재 {i} 페이지 수집 중 입니다.', '*'*10)\n",
    "\n",
    "    url = f'https://www.yes24.com/Product/Category/BestSeller?categoryNumber=001&pageNumber={i}&pageSize=24'\n",
    "    browser.get(url)\n",
    "\n",
    "    browser.find_element(By.CLASS_NAME, 'gd_name').get_attribute('href')\n",
    "    datas = browser.find_elements(By.CLASS_NAME, 'gd_name') # element: 리스트\n",
    "\n",
    "    for i in datas:\n",
    "        link = i.get_attribute('href')\n",
    "        link_list.append(link)\n",
    "\n",
    "    time.sleep(3)\n",
    "\n",
    "print(link_list)"
   ]
  },
  {
   "cell_type": "code",
   "execution_count": null,
   "metadata": {},
   "outputs": [
    {
     "data": {
      "text/plain": [
       "72"
      ]
     },
     "execution_count": 11,
     "metadata": {},
     "output_type": "execute_result"
    }
   ],
   "source": [
    "len(link_list)"
   ]
  },
  {
   "cell_type": "code",
   "execution_count": null,
   "metadata": {},
   "outputs": [],
   "source": [
    "from selenium.webdriver.common.by import By\n",
    "url= 'https://www.yes24.com/Product/Category/BestSeller?categoryNumber=001&pageNumber=1&pageSize=24'\n",
    "browser.get(url)"
   ]
  },
  {
   "cell_type": "code",
   "execution_count": 73,
   "metadata": {},
   "outputs": [],
   "source": [
    "# for link in link_list:\n",
    "#     # 상세 페이지로 이동\n",
    "#     browser.get(link)\n",
    "\n",
    "browser.get(link_list[0])\n",
    "\n",
    "title = browser.find_element(By.CLASS_NAME, 'gd_name').text\n",
    "author = browser.find_element(By.CLASS_NAME, 'gd_auth').text\n",
    "publisher = browser.find_element(By.CLASS_NAME, 'gd_pub').text\n",
    "publishing = browser.find_element(By.CLASS_NAME, 'gd_date').text\n",
    "rating = browser.find_element(By.CLASS_NAME, 'yes_b').text\n",
    "reviews = browser.find_element(By.CLASS_NAME, 'txC_blue').text\n",
    "\n",
    "sales = browser.find_element(By.CLASS_NAME, 'gd_sellNum').text.split(\" \")[2]\n",
    "\n",
    "price = browser.find_element(By.CLASS_NAME, 'yes_m').text[:-1]\n",
    "rangking = browser.find_element(By.CLASS_NAME, 'gd_best').text.split(\" | \")[0]\n",
    "rangking_weeks= browser.find_element(By.CLASS_NAME, 'gd_best').text.split(\" | \")[1]\n",
    "#rangking = browser.find_element(By.CLASS_NAME, 'gd_best').find_element(By.TAG_NAME, 'a').text\n",
    "#rangking2 = browser.find_element(By.CLASS_NAME, 'gd_best').find_element(By.TAG_NAME, 'dd').text\n",
    "\n",
    "\n",
    "\n",
    "\n"
   ]
  },
  {
   "cell_type": "code",
   "execution_count": 67,
   "metadata": {},
   "outputs": [
    {
     "data": {
      "text/plain": [
       "'485,568'"
      ]
     },
     "execution_count": 67,
     "metadata": {},
     "output_type": "execute_result"
    }
   ],
   "source": [
    "text = '| 판매지수 485,568'\n",
    "\n",
    "text.split(\" \")[2]"
   ]
  },
  {
   "cell_type": "code",
   "execution_count": 50,
   "metadata": {},
   "outputs": [
    {
     "data": {
      "text/plain": [
       "'1위'"
      ]
     },
     "execution_count": 50,
     "metadata": {},
     "output_type": "execute_result"
    }
   ],
   "source": [
    "text = '베스트 국내도서 1위 | 국내도서 1위 5주'\n",
    "\n",
    "text.split(\" | \")[0].split(\" \")[2]"
   ]
  },
  {
   "cell_type": "markdown",
   "metadata": {},
   "source": [
    "## 33강~36강 코드\n"
   ]
  },
  {
   "cell_type": "code",
   "execution_count": 138,
   "metadata": {},
   "outputs": [
    {
     "name": "stdout",
     "output_type": "stream",
     "text": [
      "full_text :  베스트 국내도서 1위 | 국내도서 1위 6주\n",
      "full_text :  베스트 국내도서 2위 | 국내도서 top20 1주\n",
      "full_text :  베스트 국내도서 3위 | 국내도서 top20 1주\n",
      "full_text :  베스트 국내도서 4위 | 국내도서 top20 5주\n",
      "full_text :  베스트 국내도서 5위 | 국내도서 top20 1주\n",
      "full_text :  베스트 국내도서 6위 | 국내도서 top20 5주\n",
      "full_text :  베스트 국내도서 7위 | 국내도서 top20 1주\n",
      "full_text :  베스트 국내도서 8위 | 국내도서 top20 1주\n",
      "full_text :  베스트 국내도서 9위 | 국내도서 top20 3주\n",
      "full_text :  베스트 국내도서 10위 | 국내도서 1위 22주\n",
      "full_text :  베스트 국내도서 11위 | 국내도서 1위 12주\n",
      "full_text :  베스트 국내도서 12위 | 국내도서 top20 17주\n",
      "full_text :  베스트 국내도서 13위 | 국내도서 top20 1주\n",
      "full_text :  베스트 국내도서 14위 | 국내도서 top20 1주\n",
      "full_text :  베스트 국내도서 15위 | 국내도서 top20 4주\n",
      "full_text :  베스트 국내도서 16위 | 국내도서 top20 21주\n",
      "full_text :  베스트 국내도서 17위 | 국내도서 top20 15주\n",
      "full_text :  베스트 국내도서 18위 | 국내도서 top20 18주\n",
      "full_text :  베스트 국내도서 19위 | 국내도서 top20 6주\n",
      "full_text :  베스트 국내도서 20위 | 국내도서 top20 4주\n",
      "full_text :  베스트 국내도서 21위 | 국내도서 top20 2주\n",
      "full_text :  베스트 국내도서 22위 | 국내도서 top100 1주\n",
      "full_text :  베스트 국내도서 23위 | 국내도서 top100 3주\n",
      "full_text :  베스트 국내도서 24위 | 국내도서 top20 2주\n",
      "full_text :  베스트 국내도서 25위 | 국내도서 top20 16주\n",
      "full_text :  베스트 국내도서 26위 | 국내도서 top20 5주\n",
      "full_text :  베스트 국내도서 27위 | 국내도서 top100 2주\n",
      "full_text :  베스트 국내도서 28위 | 국내도서 top100 1주\n",
      "full_text :  베스트 국내도서 29위 | 국내도서 top20 1주\n",
      "full_text :  베스트 국내도서 30위 | 국내도서 top20 6주\n",
      "full_text :  베스트 국내도서 31위 | 국내도서 top100 1주\n",
      "full_text :  베스트 국내도서 32위 | 국내도서 top20 7주\n",
      "full_text :  베스트 국내도서 33위 | 국내도서 top20 1주\n",
      "full_text :  베스트 국내도서 34위 | 국내도서 top100 50주\n",
      "full_text :  베스트 국내도서 35위 | 국내도서 top100 1주\n",
      "full_text :  베스트 국내도서 36위 | 국내도서 top20 3주\n",
      "full_text :  베스트 국내도서 37위 | 국내도서 top100 4주\n",
      "full_text :  베스트 국내도서 38위 | 국내도서 top20 1주\n",
      "full_text :  베스트 국내도서 39위 | 국내도서 top100 2주\n",
      "full_text :  베스트 국내도서 40위 | 국내도서 top20 2주\n",
      "full_text :  베스트 국내도서 41위 | 국내도서 top20 4주\n",
      "full_text :  베스트 국내도서 42위 | 국내도서 top100 1주\n",
      "full_text :  베스트 국내도서 43위 | 국내도서 top100 1주\n",
      "full_text :  베스트 국내도서 44위 | 국내도서 top100 5주\n",
      "full_text :  베스트 국내도서 45위 | 국내도서 top20 16주\n",
      "full_text :  베스트 국내도서 46위 | 국내도서 top100 7주\n",
      "full_text :  베스트 국내도서 47위 | 국내도서 top100 3주\n",
      "full_text :  베스트 국내도서 48위 | 국내도서 top100 1주\n",
      "full_text :  베스트 국내도서 49위 | 국내도서 top100 4주\n",
      "full_text :  베스트 국내도서 50위 | 국내도서 top100 1주\n",
      "full_text :  베스트 국내도서 51위 | 국내도서 1위 2주\n",
      "full_text :  베스트 국내도서 52위 | 국내도서 top100 1주\n",
      "full_text :  베스트 국내도서 53위 | 국내도서 top100 4주\n",
      "full_text :  베스트 국내도서 54위 | 국내도서 top20 14주\n",
      "full_text :  베스트 국내도서 55위 | 국내도서 top20 39주\n",
      "full_text :  베스트 국내도서 56위 | 국내도서 top100 4주\n",
      "full_text :  베스트 국내도서 57위 | 국내도서 top20 1주\n",
      "full_text :  베스트 국내도서 58위 | 국내도서 top100 32주\n",
      "full_text :  베스트 국내도서 59위 | 국내도서 top20 2주\n",
      "full_text :  베스트 국내도서 60위 | 국내도서 top20 6주\n",
      "full_text :  베스트 국내도서 61위 | 국내도서 top20 6주\n",
      "full_text :  베스트 국내도서 62위 | 국내도서 top100 16주\n",
      "full_text :  베스트 국내도서 63위 | 국내도서 top100 1주\n",
      "full_text :  베스트 국내도서 64위 | 국내도서 top20 1주\n",
      "full_text :  베스트 국내도서 65위 | 국내도서 top100 2주\n",
      "full_text :  베스트 국내도서 66위 | 국내도서 top100 1주\n",
      "full_text :  베스트 국내도서 67위 | 국내도서 top100 5주\n",
      "full_text :  베스트 국내도서 68위 | 국내도서 top100 4주\n",
      "full_text :  베스트 국내도서 69위 | 국내도서 top20 10주\n",
      "full_text :  베스트 국내도서 70위 | 국내도서 top20 14주\n",
      "full_text :  베스트 국내도서 71위 | 국내도서 top100 7주\n",
      "full_text :  베스트 국내도서 72위 | 국내도서 top100 4주\n"
     ]
    }
   ],
   "source": [
    "# 데이터 베이스 연동 후 -> 수집한 데이터를 DB에 저장 (csv)\n",
    "# 상세 페이지 이동 후 데이터 크롤링\n",
    "import pymysql # pip install pymysql\n",
    "import time\n",
    "import re\n",
    "from datetime import datetime\n",
    "from selenium.common.exceptions import NoSuchElementException\n",
    "\n",
    "\n",
    "conn = pymysql.connect(\n",
    "    host='localhost',\n",
    "    user='root',\n",
    "    password='!rldnd12',\n",
    "    db='yse24',\n",
    "    charset='utf8mb4',\n",
    "    cursorclass=pymysql.cursors.DictCursor\n",
    ")\n",
    "\n",
    "with conn.cursor() as cur:\n",
    "\n",
    "    for link in link_list:\n",
    "        browser.get(link)\n",
    "\n",
    "        title = browser.find_element(By.CLASS_NAME, 'gd_name').text\n",
    "        author = browser.find_element(By.CLASS_NAME, 'gd_auth').text\n",
    "        publisher = browser.find_element(By.CLASS_NAME, 'gd_pub').text\n",
    "\n",
    "        # 2023년 12월 25일 -> 2023-12-24\n",
    "        publishing = browser.find_element(By.CLASS_NAME, 'gd_date').text\n",
    "\n",
    "        match = re.search(r'(\\d+)년 (\\d+)월 (\\d+)일', publishing)\n",
    "\n",
    "        if match:\n",
    "            year, month, day = match.groups()\n",
    "            data_obj = datetime(int(year), int(month), int(day)) \n",
    "            publishing = data_obj.strftime(\"%Y-%m-%d\")\n",
    "        else:\n",
    "            publishing = \"2023-01-01\"\n",
    "\n",
    "    \n",
    "\n",
    "        try:\n",
    "            rating_element = browser.find_element(By.CLASS_NAME, \"yes_b\")\n",
    "            rating_text = rating_element.text\n",
    "    \n",
    "            rating = float(rating_text)\n",
    "        \n",
    "        except ValueError:\n",
    "            # 변환할 수 없는 경우 0으로 처리\n",
    "            rating = 0\n",
    "        except NoSuchElementException:\n",
    "            rating = 0\n",
    "\n",
    "\n",
    "        # try:\n",
    "        #     review = browser.find_element(By.CLASS_NAME, 'txC_blue').text\n",
    "        #     review == int(review.replace(\",\", \"\"))\n",
    "        # except NoSuchElementException:\n",
    "        #     review = 0\n",
    "        # except (ValueError, TypeError):\n",
    "        #     review = 0\n",
    "            \n",
    "\n",
    "        try:\n",
    "            review_element = browser.find_element(By.CLASS_NAME, \"txC_blue\")\n",
    "            review = int(review_element.text.replace(\",\", \"\"))\n",
    "        except NoSuchElementException:\n",
    "            review = 0\n",
    "        except (ValueError, TypeError):\n",
    "            review = 0\n",
    "        \n",
    "\n",
    "\n",
    "        sales = browser.find_element(By.CLASS_NAME, 'gd_sellNum').text.split(\" \")[2]\n",
    "        sales = int(sales.replace(\",\", \"\"))\n",
    "\n",
    "        price = browser.find_element(By.CLASS_NAME, 'yes_m').text[:-1]\n",
    "        price = int(price.replace(\",\", \"\"))\n",
    "\n",
    "        full_text = browser.find_element(By.CLASS_NAME, 'gd_best').text\n",
    "        parts = full_text.split(\" | \")\n",
    "        \n",
    "        print('full_text : ', full_text) #베스트만 출력\n",
    "\n",
    "        # if len(parts) == 1:\n",
    "        #     ranking = 0\n",
    "        #     ranking_weeks = 0\n",
    "            \n",
    "        # else: \n",
    "\n",
    "        try: \n",
    "                ranking_part = parts[0]\n",
    "                ranking = ''.join(filter(str.isdigit, ranking_part)) # 숫자만 추출\n",
    "        except:\n",
    "                ranking = 0\n",
    "            \n",
    "        try:    \n",
    "                # 국내도서 top20 3주\n",
    "                ranking_weeks_part = parts[1]\n",
    "                ranking_weeks = ''.join(filter(str.isdigit, ranking_weeks_part.split()[-1]))\n",
    "\n",
    "        except:\n",
    "                rangking_weeks = 0\n",
    "\n",
    "        sql = \"\"\"\n",
    "        INSERT INTO Books(title, author, publisher, publishing, rating, review, sales, price, ranking, ranking_weeks)\n",
    "        VALUES(%s, %s, %s, %s, %s, %s, %s, %s, %s, %s)\n",
    "        \"\"\"\n",
    "\n",
    "        cur.execute(sql, (title, author, publisher, publishing, rating, review, sales, price, ranking, ranking_weeks))\n",
    "        conn.commit()\n",
    "\n",
    "        time.sleep(2)\n"
   ]
  }
 ],
 "metadata": {
  "kernelspec": {
   "display_name": ".venv",
   "language": "python",
   "name": "python3"
  },
  "language_info": {
   "codemirror_mode": {
    "name": "ipython",
    "version": 3
   },
   "file_extension": ".py",
   "mimetype": "text/x-python",
   "name": "python",
   "nbconvert_exporter": "python",
   "pygments_lexer": "ipython3",
   "version": "3.11.7"
  }
 },
 "nbformat": 4,
 "nbformat_minor": 2
}
