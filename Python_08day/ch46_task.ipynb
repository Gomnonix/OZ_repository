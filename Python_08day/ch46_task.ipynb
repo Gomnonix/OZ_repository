{
 "cells": [
  {
   "cell_type": "markdown",
   "metadata": {},
   "source": [
    "[문제]\n",
    "\n",
    "'Account' 클래스를 작성하세요. \n",
    "\n",
    "이 클래스는 소유자(owner)와 잔액(balance)을 속성으로 가지며, 잔액은 프라이빗 변수로 선언합니다. \n",
    "\n",
    "'deposit'와 'withdraw' 두 개의 메소드를 통해 잔액을 조작할 수 있도록 하세요. \n",
    "\n",
    "이 때, 잔액은 음수가 될 수 없도록 체크해야 합니다. 'Account' 객체를 생성하고,<br>\n",
    "입금 및 출금 작업을 시뮬레이션한 후, 최종 잔액을 출력하세요."
   ]
  },
  {
   "cell_type": "code",
   "execution_count": 8,
   "metadata": {},
   "outputs": [
    {
     "name": "stdout",
     "output_type": "stream",
     "text": [
      "입금 성공\n",
      "출금성공\n",
      "잔액: 8000\n"
     ]
    }
   ],
   "source": [
    "class Account:\n",
    "    def __init__(self, owner, balance):\n",
    "        self.owner = owner\n",
    "        self.__balance = balance\n",
    "    \n",
    "    def deposit(self, money):\n",
    "        if money > 0:\n",
    "            self.__balance += money\n",
    "            print(\"입금 성공\")\n",
    "        else:\n",
    "            print(\"입금실패\")\n",
    "    \n",
    "    def withdraw(self, money):\n",
    "        if 0 < money <= self.__balance:\n",
    "            self.__balance -= money\n",
    "            print(\"출금성공\")\n",
    "        else:\n",
    "            print(\"출금실패\")\n",
    "\n",
    "    def get_money(self):\n",
    "        return self.__balance\n",
    "\n",
    "account = Account(\"박기웅\", 10000)\n",
    "account.deposit(1000)\n",
    "account.withdraw(3000)\n",
    "print(\"잔액:\",account.get_money())\n",
    "        \n"
   ]
  }
 ],
 "metadata": {
  "kernelspec": {
   "display_name": "main",
   "language": "python",
   "name": "python3"
  },
  "language_info": {
   "codemirror_mode": {
    "name": "ipython",
    "version": 3
   },
   "file_extension": ".py",
   "mimetype": "text/x-python",
   "name": "python",
   "nbconvert_exporter": "python",
   "pygments_lexer": "ipython3",
   "version": "3.9.19"
  }
 },
 "nbformat": 4,
 "nbformat_minor": 2
}
