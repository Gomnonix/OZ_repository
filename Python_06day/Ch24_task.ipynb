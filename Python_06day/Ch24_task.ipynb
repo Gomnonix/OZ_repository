{
 "cells": [
  {
   "cell_type": "markdown",
   "metadata": {},
   "source": [
    "사용자의 이름, 나이, 성별을 출력하는 함수 print_info를 작성하세요. 이 때, 모든 매개변수는 키워드 매개변수로만 받도록 하세요."
   ]
  },
  {
   "cell_type": "markdown",
   "metadata": {},
   "source": []
  },
  {
   "cell_type": "code",
   "execution_count": 8,
   "metadata": {},
   "outputs": [
    {
     "name": "stdout",
     "output_type": "stream",
     "text": [
      "이름:박기웅, 나이:28, 성별남자\n"
     ]
    }
   ],
   "source": [
    "class print_info:\n",
    "    def __init__(self, name, age, gender):\n",
    "        self.name = name \n",
    "        self.age = age\n",
    "        self.gender = gender \n",
    "    \n",
    "    def info(self):\n",
    "        print('이름:{0}, 나이:{1}, 성별{2}'\n",
    "        .format( self.name, self.age, self.gender))\n",
    "\n",
    "coding = print_info(\"박기웅\", \"28\", \"남자\")\n",
    "coding.info()\n",
    "\n",
    "         "
   ]
  }
 ],
 "metadata": {
  "kernelspec": {
   "display_name": "main",
   "language": "python",
   "name": "python3"
  },
  "language_info": {
   "codemirror_mode": {
    "name": "ipython",
    "version": 3
   },
   "file_extension": ".py",
   "mimetype": "text/x-python",
   "name": "python",
   "nbconvert_exporter": "python",
   "pygments_lexer": "ipython3",
   "version": "3.9.19"
  }
 },
 "nbformat": 4,
 "nbformat_minor": 2
}
